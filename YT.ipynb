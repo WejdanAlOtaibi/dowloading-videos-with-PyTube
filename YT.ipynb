{
 "cells": [
  {
   "cell_type": "markdown",
   "metadata": {},
   "source": [
    "# Downloading Videos with Python\n",
    "\n",
    "We need to first install the library we need, in this mini project we only need PyTube.\n",
    "From PyTube we import YouTube."
   ]
  },
  {
   "cell_type": "code",
   "execution_count": 1,
   "metadata": {},
   "outputs": [],
   "source": [
    "from pytube import YouTube"
   ]
  },
  {
   "cell_type": "code",
   "execution_count": 15,
   "metadata": {},
   "outputs": [
    {
     "data": {
      "text/plain": [
       "'C:\\\\PyYT\\\\Data Science In 5 Minutes  Data Science For Beginners  What Is Data Science  Simplilearn.mp4'"
      ]
     },
     "execution_count": 15,
     "metadata": {},
     "output_type": "execute_result"
    }
   ],
   "source": [
    "url = 'https://www.youtube.com/watch?v=X3paOmcrTjQ&t=1s' # url of the video\n",
    "yt =YouTube(url) # Load url in function Youtube\n",
    "\n",
    "video = yt.streams.first() # or video = youtube.streams.get_highest_resolution()\n",
    "video.download() # download the video"
   ]
  },
  {
   "cell_type": "markdown",
   "metadata": {},
   "source": [
    "# Additional Information:\n",
    "\n",
    "###### You can get information of the video you chose:\n",
    " - video.title # Title\n",
    " - video.video_id # Id\n",
    " - video.age_restricted # Age"
   ]
  }
 ],
 "metadata": {
  "kernelspec": {
   "display_name": "Python 3",
   "language": "python",
   "name": "python3"
  },
  "language_info": {
   "codemirror_mode": {
    "name": "ipython",
    "version": 3
   },
   "file_extension": ".py",
   "mimetype": "text/x-python",
   "name": "python",
   "nbconvert_exporter": "python",
   "pygments_lexer": "ipython3",
   "version": "3.8.2"
  }
 },
 "nbformat": 4,
 "nbformat_minor": 4
}
